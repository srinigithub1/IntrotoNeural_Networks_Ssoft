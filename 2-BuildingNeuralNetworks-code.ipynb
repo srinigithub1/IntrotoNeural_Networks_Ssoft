{
 "cells": [
  {
   "cell_type": "code",
   "execution_count": null,
   "id": "1c966cc6",
   "metadata": {},
   "outputs": [],
   "source": [
    "#######################################################\n",
    "#######################################################\n",
    "############    COPYRIGHT - DATA SOCIETY   ############\n",
    "#######################################################\n",
    "#######################################################\n",
    "\n",
    "## INTROTONEURALNETWORKS/2 BUILDINGNEURALNETWORKS/INTROTONEURALNETWORKS BUILDINGNEURALNETWORKS 1 ##\n",
    "\n",
    "## NOTE: To run individual pieces of code, select the line of code and\n",
    "##       press ctrl + enter for PCs or command + enter for Macs\n",
    "\n",
    "\n"
   ]
  },
  {
   "cell_type": "code",
   "execution_count": null,
   "id": "7ca12ef9",
   "metadata": {},
   "outputs": [],
   "source": [
    "# Working directory -> folder we are working in"
   ]
  },
  {
   "cell_type": "code",
   "execution_count": 1,
   "id": "6c1ac6c9",
   "metadata": {},
   "outputs": [],
   "source": [
    "from pathlib import Path \n"
   ]
  },
  {
   "cell_type": "code",
   "execution_count": 4,
   "id": "23c90229",
   "metadata": {},
   "outputs": [
    {
     "data": {
      "text/plain": [
       "PosixPath('/Users/elliotstern/Downloads/2025 Course Materials/1_IntroToNeuralNetworks/2-BuildingNeuralNetworks')"
      ]
     },
     "execution_count": 4,
     "metadata": {},
     "output_type": "execute_result"
    }
   ],
   "source": [
    "Path(\".\").resolve()"
   ]
  },
  {
   "cell_type": "code",
   "execution_count": 8,
   "id": "ccae2b7a",
   "metadata": {},
   "outputs": [
    {
     "data": {
      "text/plain": [
       "'/Users/elliotstern/Downloads/2025 Course Materials/data'"
      ]
     },
     "execution_count": 8,
     "metadata": {},
     "output_type": "execute_result"
    }
   ],
   "source": [
    "home_dir = Path(\".\").resolve()\n",
    "main_dir = home_dir.parent.parent\n",
    "str(main_dir) + \"/data\""
   ]
  },
  {
   "cell_type": "code",
   "execution_count": 33,
   "id": "2072a591",
   "metadata": {},
   "outputs": [
    {
     "name": "stdout",
     "output_type": "stream",
     "text": [
      "/Users/elliotstern/Downloads/2025 Course Materials\n",
      "/Users/elliotstern/Downloads/2025 Course Materials/data\n"
     ]
    }
   ],
   "source": [
    "#=================================================-\n",
    "#### Slide 5: Directory settings  ####\n",
    "\n",
    "# Set 'main_dir' to location of the project folder\n",
    "from pathlib import Path \n",
    "home_dir = Path(\".\").resolve()\n",
    "main_dir = home_dir.parent.parent\n",
    "print(main_dir)\n",
    "data_dir = str(main_dir) + \"/data\"\n",
    "print(data_dir)\n",
    "\n",
    "\n"
   ]
  },
  {
   "cell_type": "code",
   "execution_count": 34,
   "id": "cbe28f0b",
   "metadata": {},
   "outputs": [],
   "source": [
    "#=================================================-\n",
    "#### Slide 6: Loading packages  ####\n",
    "\n",
    "import os\n",
    "import matplotlib.pyplot as plt\n",
    "import numpy as np                                    \n",
    "import pandas as pd\n",
    "import pickle\n",
    "from textwrap import wrap\n",
    "# Scikit-learn package for building a perceptron.\n",
    "from sklearn.neural_network import MLPClassifier\n",
    "\n",
    "# Scikit-learn package for data preprocessing.\n",
    "from sklearn.preprocessing import MinMaxScaler\n",
    "# Model set up, tuning and model metrics packages.\n",
    "from sklearn.model_selection import train_test_split\n",
    "from sklearn.metrics import accuracy_score\n",
    "from sklearn import preprocessing\n",
    "from sklearn import metrics\n",
    "from sklearn.model_selection import GridSearchCV\n",
    "\n",
    "\n"
   ]
  },
  {
   "cell_type": "code",
   "execution_count": 35,
   "id": "7d275b60",
   "metadata": {},
   "outputs": [
    {
     "data": {
      "text/plain": [
       "'/Users/elliotstern/Downloads/2025 Course Materials/data'"
      ]
     },
     "execution_count": 35,
     "metadata": {},
     "output_type": "execute_result"
    }
   ],
   "source": [
    "data_dir"
   ]
  },
  {
   "cell_type": "code",
   "execution_count": 36,
   "id": "819e7c1e",
   "metadata": {},
   "outputs": [
    {
     "data": {
      "text/plain": [
       "'/Users/elliotstern/Downloads/2025 Course Materials/data/heart_disease_risk_BRFSS2015.csv'"
      ]
     },
     "execution_count": 36,
     "metadata": {},
     "output_type": "execute_result"
    }
   ],
   "source": [
    "str(data_dir) + '/heart_disease_risk_BRFSS2015.csv'"
   ]
  },
  {
   "cell_type": "code",
   "execution_count": 14,
   "id": "89d82dd8",
   "metadata": {},
   "outputs": [
    {
     "name": "stdout",
     "output_type": "stream",
     "text": [
      "   HeartDiseaseorAttack  highbp  highchol  cholcheck  smokingstatus  stroke  \\\n",
      "0                     0       1         1          1              1       0   \n",
      "1                     0       0         0          0              1       0   \n",
      "2                     0       1         1          1              0       0   \n",
      "3                     0       1         0          1              0       0   \n",
      "4                     0       1         1          1              0       0   \n",
      "\n",
      "   diabetes  physactivity  fruits  veggies  hvyalcoholconsump  anyhealthcare  \\\n",
      "0         0             0       0        1                  0              1   \n",
      "1         0             1       0        0                  0              0   \n",
      "2         0             0       1        0                  0              1   \n",
      "3         0             1       1        1                  0              1   \n",
      "4         0             1       1        1                  0              1   \n",
      "\n",
      "   genhlth  diffwalk Sex_assigned_at_birth  age                      Education  \n",
      "0        5         1                Female    9           High school graduate  \n",
      "1        3         0                Female    7               College graduate  \n",
      "2        5         1                Female    9           High school graduate  \n",
      "3        2         0                Female   11                    Grades 9-11  \n",
      "4        2         0                Female   11  Some college/technical school  \n"
     ]
    }
   ],
   "source": [
    "#=================================================-\n",
    "#### Slide 7: Load the data  ####\n",
    "\n",
    "heart_disease = pd.read_csv(str(data_dir) + '/heart_disease_risk_BRFSS2015.csv')\n",
    "print(heart_disease.head())\n",
    "\n",
    "\n"
   ]
  },
  {
   "cell_type": "code",
   "execution_count": 16,
   "id": "aee3cdcb",
   "metadata": {},
   "outputs": [
    {
     "data": {
      "text/html": [
       "<div>\n",
       "<style scoped>\n",
       "    .dataframe tbody tr th:only-of-type {\n",
       "        vertical-align: middle;\n",
       "    }\n",
       "\n",
       "    .dataframe tbody tr th {\n",
       "        vertical-align: top;\n",
       "    }\n",
       "\n",
       "    .dataframe thead th {\n",
       "        text-align: right;\n",
       "    }\n",
       "</style>\n",
       "<table border=\"1\" class=\"dataframe\">\n",
       "  <thead>\n",
       "    <tr style=\"text-align: right;\">\n",
       "      <th></th>\n",
       "      <th>HeartDiseaseorAttack</th>\n",
       "      <th>highbp</th>\n",
       "      <th>highchol</th>\n",
       "      <th>cholcheck</th>\n",
       "      <th>smokingstatus</th>\n",
       "      <th>stroke</th>\n",
       "      <th>diabetes</th>\n",
       "      <th>physactivity</th>\n",
       "      <th>fruits</th>\n",
       "      <th>veggies</th>\n",
       "      <th>hvyalcoholconsump</th>\n",
       "      <th>anyhealthcare</th>\n",
       "      <th>genhlth</th>\n",
       "      <th>diffwalk</th>\n",
       "      <th>Sex_assigned_at_birth</th>\n",
       "      <th>age</th>\n",
       "      <th>Education</th>\n",
       "    </tr>\n",
       "  </thead>\n",
       "  <tbody>\n",
       "    <tr>\n",
       "      <th>0</th>\n",
       "      <td>0</td>\n",
       "      <td>1</td>\n",
       "      <td>1</td>\n",
       "      <td>1</td>\n",
       "      <td>1</td>\n",
       "      <td>0</td>\n",
       "      <td>0</td>\n",
       "      <td>0</td>\n",
       "      <td>0</td>\n",
       "      <td>1</td>\n",
       "      <td>0</td>\n",
       "      <td>1</td>\n",
       "      <td>5</td>\n",
       "      <td>1</td>\n",
       "      <td>Female</td>\n",
       "      <td>9</td>\n",
       "      <td>High school graduate</td>\n",
       "    </tr>\n",
       "    <tr>\n",
       "      <th>1</th>\n",
       "      <td>0</td>\n",
       "      <td>0</td>\n",
       "      <td>0</td>\n",
       "      <td>0</td>\n",
       "      <td>1</td>\n",
       "      <td>0</td>\n",
       "      <td>0</td>\n",
       "      <td>1</td>\n",
       "      <td>0</td>\n",
       "      <td>0</td>\n",
       "      <td>0</td>\n",
       "      <td>0</td>\n",
       "      <td>3</td>\n",
       "      <td>0</td>\n",
       "      <td>Female</td>\n",
       "      <td>7</td>\n",
       "      <td>College graduate</td>\n",
       "    </tr>\n",
       "    <tr>\n",
       "      <th>2</th>\n",
       "      <td>0</td>\n",
       "      <td>1</td>\n",
       "      <td>1</td>\n",
       "      <td>1</td>\n",
       "      <td>0</td>\n",
       "      <td>0</td>\n",
       "      <td>0</td>\n",
       "      <td>0</td>\n",
       "      <td>1</td>\n",
       "      <td>0</td>\n",
       "      <td>0</td>\n",
       "      <td>1</td>\n",
       "      <td>5</td>\n",
       "      <td>1</td>\n",
       "      <td>Female</td>\n",
       "      <td>9</td>\n",
       "      <td>High school graduate</td>\n",
       "    </tr>\n",
       "    <tr>\n",
       "      <th>3</th>\n",
       "      <td>0</td>\n",
       "      <td>1</td>\n",
       "      <td>0</td>\n",
       "      <td>1</td>\n",
       "      <td>0</td>\n",
       "      <td>0</td>\n",
       "      <td>0</td>\n",
       "      <td>1</td>\n",
       "      <td>1</td>\n",
       "      <td>1</td>\n",
       "      <td>0</td>\n",
       "      <td>1</td>\n",
       "      <td>2</td>\n",
       "      <td>0</td>\n",
       "      <td>Female</td>\n",
       "      <td>11</td>\n",
       "      <td>Grades 9-11</td>\n",
       "    </tr>\n",
       "    <tr>\n",
       "      <th>4</th>\n",
       "      <td>0</td>\n",
       "      <td>1</td>\n",
       "      <td>1</td>\n",
       "      <td>1</td>\n",
       "      <td>0</td>\n",
       "      <td>0</td>\n",
       "      <td>0</td>\n",
       "      <td>1</td>\n",
       "      <td>1</td>\n",
       "      <td>1</td>\n",
       "      <td>0</td>\n",
       "      <td>1</td>\n",
       "      <td>2</td>\n",
       "      <td>0</td>\n",
       "      <td>Female</td>\n",
       "      <td>11</td>\n",
       "      <td>Some college/technical school</td>\n",
       "    </tr>\n",
       "    <tr>\n",
       "      <th>...</th>\n",
       "      <td>...</td>\n",
       "      <td>...</td>\n",
       "      <td>...</td>\n",
       "      <td>...</td>\n",
       "      <td>...</td>\n",
       "      <td>...</td>\n",
       "      <td>...</td>\n",
       "      <td>...</td>\n",
       "      <td>...</td>\n",
       "      <td>...</td>\n",
       "      <td>...</td>\n",
       "      <td>...</td>\n",
       "      <td>...</td>\n",
       "      <td>...</td>\n",
       "      <td>...</td>\n",
       "      <td>...</td>\n",
       "      <td>...</td>\n",
       "    </tr>\n",
       "    <tr>\n",
       "      <th>203060</th>\n",
       "      <td>0</td>\n",
       "      <td>1</td>\n",
       "      <td>1</td>\n",
       "      <td>1</td>\n",
       "      <td>1</td>\n",
       "      <td>0</td>\n",
       "      <td>2</td>\n",
       "      <td>0</td>\n",
       "      <td>0</td>\n",
       "      <td>0</td>\n",
       "      <td>0</td>\n",
       "      <td>1</td>\n",
       "      <td>5</td>\n",
       "      <td>1</td>\n",
       "      <td>Male</td>\n",
       "      <td>10</td>\n",
       "      <td>Grades 9-11</td>\n",
       "    </tr>\n",
       "    <tr>\n",
       "      <th>203061</th>\n",
       "      <td>0</td>\n",
       "      <td>0</td>\n",
       "      <td>0</td>\n",
       "      <td>1</td>\n",
       "      <td>0</td>\n",
       "      <td>0</td>\n",
       "      <td>0</td>\n",
       "      <td>0</td>\n",
       "      <td>1</td>\n",
       "      <td>1</td>\n",
       "      <td>0</td>\n",
       "      <td>1</td>\n",
       "      <td>2</td>\n",
       "      <td>0</td>\n",
       "      <td>Female</td>\n",
       "      <td>7</td>\n",
       "      <td>College graduate</td>\n",
       "    </tr>\n",
       "    <tr>\n",
       "      <th>203062</th>\n",
       "      <td>1</td>\n",
       "      <td>1</td>\n",
       "      <td>1</td>\n",
       "      <td>1</td>\n",
       "      <td>1</td>\n",
       "      <td>1</td>\n",
       "      <td>2</td>\n",
       "      <td>0</td>\n",
       "      <td>1</td>\n",
       "      <td>1</td>\n",
       "      <td>0</td>\n",
       "      <td>1</td>\n",
       "      <td>5</td>\n",
       "      <td>1</td>\n",
       "      <td>Male</td>\n",
       "      <td>9</td>\n",
       "      <td>Grades 1-8</td>\n",
       "    </tr>\n",
       "    <tr>\n",
       "      <th>203063</th>\n",
       "      <td>1</td>\n",
       "      <td>1</td>\n",
       "      <td>0</td>\n",
       "      <td>1</td>\n",
       "      <td>1</td>\n",
       "      <td>0</td>\n",
       "      <td>2</td>\n",
       "      <td>0</td>\n",
       "      <td>1</td>\n",
       "      <td>1</td>\n",
       "      <td>0</td>\n",
       "      <td>1</td>\n",
       "      <td>5</td>\n",
       "      <td>1</td>\n",
       "      <td>Female</td>\n",
       "      <td>11</td>\n",
       "      <td>College graduate</td>\n",
       "    </tr>\n",
       "    <tr>\n",
       "      <th>203064</th>\n",
       "      <td>0</td>\n",
       "      <td>0</td>\n",
       "      <td>0</td>\n",
       "      <td>1</td>\n",
       "      <td>0</td>\n",
       "      <td>0</td>\n",
       "      <td>2</td>\n",
       "      <td>1</td>\n",
       "      <td>1</td>\n",
       "      <td>1</td>\n",
       "      <td>0</td>\n",
       "      <td>1</td>\n",
       "      <td>2</td>\n",
       "      <td>0</td>\n",
       "      <td>Male</td>\n",
       "      <td>11</td>\n",
       "      <td>Grades 1-8</td>\n",
       "    </tr>\n",
       "  </tbody>\n",
       "</table>\n",
       "<p>203065 rows × 17 columns</p>\n",
       "</div>"
      ],
      "text/plain": [
       "        HeartDiseaseorAttack  highbp  highchol  cholcheck  smokingstatus  \\\n",
       "0                          0       1         1          1              1   \n",
       "1                          0       0         0          0              1   \n",
       "2                          0       1         1          1              0   \n",
       "3                          0       1         0          1              0   \n",
       "4                          0       1         1          1              0   \n",
       "...                      ...     ...       ...        ...            ...   \n",
       "203060                     0       1         1          1              1   \n",
       "203061                     0       0         0          1              0   \n",
       "203062                     1       1         1          1              1   \n",
       "203063                     1       1         0          1              1   \n",
       "203064                     0       0         0          1              0   \n",
       "\n",
       "        stroke  diabetes  physactivity  fruits  veggies  hvyalcoholconsump  \\\n",
       "0            0         0             0       0        1                  0   \n",
       "1            0         0             1       0        0                  0   \n",
       "2            0         0             0       1        0                  0   \n",
       "3            0         0             1       1        1                  0   \n",
       "4            0         0             1       1        1                  0   \n",
       "...        ...       ...           ...     ...      ...                ...   \n",
       "203060       0         2             0       0        0                  0   \n",
       "203061       0         0             0       1        1                  0   \n",
       "203062       1         2             0       1        1                  0   \n",
       "203063       0         2             0       1        1                  0   \n",
       "203064       0         2             1       1        1                  0   \n",
       "\n",
       "        anyhealthcare  genhlth  diffwalk Sex_assigned_at_birth  age  \\\n",
       "0                   1        5         1                Female    9   \n",
       "1                   0        3         0                Female    7   \n",
       "2                   1        5         1                Female    9   \n",
       "3                   1        2         0                Female   11   \n",
       "4                   1        2         0                Female   11   \n",
       "...               ...      ...       ...                   ...  ...   \n",
       "203060              1        5         1                  Male   10   \n",
       "203061              1        2         0                Female    7   \n",
       "203062              1        5         1                  Male    9   \n",
       "203063              1        5         1                Female   11   \n",
       "203064              1        2         0                  Male   11   \n",
       "\n",
       "                            Education  \n",
       "0                High school graduate  \n",
       "1                    College graduate  \n",
       "2                High school graduate  \n",
       "3                         Grades 9-11  \n",
       "4       Some college/technical school  \n",
       "...                               ...  \n",
       "203060                    Grades 9-11  \n",
       "203061               College graduate  \n",
       "203062                     Grades 1-8  \n",
       "203063               College graduate  \n",
       "203064                     Grades 1-8  \n",
       "\n",
       "[203065 rows x 17 columns]"
      ]
     },
     "execution_count": 16,
     "metadata": {},
     "output_type": "execute_result"
    }
   ],
   "source": [
    "heart_disease"
   ]
  },
  {
   "cell_type": "code",
   "execution_count": 15,
   "id": "accc0ac6",
   "metadata": {},
   "outputs": [
    {
     "name": "stdout",
     "output_type": "stream",
     "text": [
      "HeartDiseaseorAttack      int64\n",
      "highbp                    int64\n",
      "highchol                  int64\n",
      "cholcheck                 int64\n",
      "smokingstatus             int64\n",
      "stroke                    int64\n",
      "diabetes                  int64\n",
      "physactivity              int64\n",
      "fruits                    int64\n",
      "veggies                   int64\n",
      "hvyalcoholconsump         int64\n",
      "anyhealthcare             int64\n",
      "genhlth                   int64\n",
      "diffwalk                  int64\n",
      "Sex_assigned_at_birth    object\n",
      "age                       int64\n",
      "Education                object\n",
      "dtype: object\n"
     ]
    }
   ],
   "source": [
    "#=================================================-\n",
    "#### Slide 10: Data at first glance  ####\n",
    "\n",
    "# The data types.\n",
    "print(heart_disease.dtypes)\n",
    "\n",
    "\n",
    "integer 1\n",
    "float 1.0\n",
    "string \"hello\" \"1\"\n",
    "\n"
   ]
  },
  {
   "cell_type": "code",
   "execution_count": 17,
   "id": "1644327e",
   "metadata": {},
   "outputs": [
    {
     "data": {
      "text/html": [
       "<div>\n",
       "<style scoped>\n",
       "    .dataframe tbody tr th:only-of-type {\n",
       "        vertical-align: middle;\n",
       "    }\n",
       "\n",
       "    .dataframe tbody tr th {\n",
       "        vertical-align: top;\n",
       "    }\n",
       "\n",
       "    .dataframe thead th {\n",
       "        text-align: right;\n",
       "    }\n",
       "</style>\n",
       "<table border=\"1\" class=\"dataframe\">\n",
       "  <thead>\n",
       "    <tr style=\"text-align: right;\">\n",
       "      <th></th>\n",
       "      <th>HeartDiseaseorAttack</th>\n",
       "      <th>highbp</th>\n",
       "      <th>highchol</th>\n",
       "      <th>cholcheck</th>\n",
       "      <th>smokingstatus</th>\n",
       "      <th>stroke</th>\n",
       "      <th>diabetes</th>\n",
       "      <th>physactivity</th>\n",
       "      <th>fruits</th>\n",
       "      <th>veggies</th>\n",
       "      <th>hvyalcoholconsump</th>\n",
       "      <th>anyhealthcare</th>\n",
       "      <th>genhlth</th>\n",
       "      <th>diffwalk</th>\n",
       "      <th>Sex_assigned_at_birth</th>\n",
       "      <th>age</th>\n",
       "      <th>Education</th>\n",
       "    </tr>\n",
       "  </thead>\n",
       "  <tbody>\n",
       "    <tr>\n",
       "      <th>0</th>\n",
       "      <td>False</td>\n",
       "      <td>False</td>\n",
       "      <td>False</td>\n",
       "      <td>False</td>\n",
       "      <td>False</td>\n",
       "      <td>False</td>\n",
       "      <td>False</td>\n",
       "      <td>False</td>\n",
       "      <td>False</td>\n",
       "      <td>False</td>\n",
       "      <td>False</td>\n",
       "      <td>False</td>\n",
       "      <td>False</td>\n",
       "      <td>False</td>\n",
       "      <td>False</td>\n",
       "      <td>False</td>\n",
       "      <td>False</td>\n",
       "    </tr>\n",
       "    <tr>\n",
       "      <th>1</th>\n",
       "      <td>False</td>\n",
       "      <td>False</td>\n",
       "      <td>False</td>\n",
       "      <td>False</td>\n",
       "      <td>False</td>\n",
       "      <td>False</td>\n",
       "      <td>False</td>\n",
       "      <td>False</td>\n",
       "      <td>False</td>\n",
       "      <td>False</td>\n",
       "      <td>False</td>\n",
       "      <td>False</td>\n",
       "      <td>False</td>\n",
       "      <td>False</td>\n",
       "      <td>False</td>\n",
       "      <td>False</td>\n",
       "      <td>False</td>\n",
       "    </tr>\n",
       "    <tr>\n",
       "      <th>2</th>\n",
       "      <td>False</td>\n",
       "      <td>False</td>\n",
       "      <td>False</td>\n",
       "      <td>False</td>\n",
       "      <td>False</td>\n",
       "      <td>False</td>\n",
       "      <td>False</td>\n",
       "      <td>False</td>\n",
       "      <td>False</td>\n",
       "      <td>False</td>\n",
       "      <td>False</td>\n",
       "      <td>False</td>\n",
       "      <td>False</td>\n",
       "      <td>False</td>\n",
       "      <td>False</td>\n",
       "      <td>False</td>\n",
       "      <td>False</td>\n",
       "    </tr>\n",
       "    <tr>\n",
       "      <th>3</th>\n",
       "      <td>False</td>\n",
       "      <td>False</td>\n",
       "      <td>False</td>\n",
       "      <td>False</td>\n",
       "      <td>False</td>\n",
       "      <td>False</td>\n",
       "      <td>False</td>\n",
       "      <td>False</td>\n",
       "      <td>False</td>\n",
       "      <td>False</td>\n",
       "      <td>False</td>\n",
       "      <td>False</td>\n",
       "      <td>False</td>\n",
       "      <td>False</td>\n",
       "      <td>False</td>\n",
       "      <td>False</td>\n",
       "      <td>False</td>\n",
       "    </tr>\n",
       "    <tr>\n",
       "      <th>4</th>\n",
       "      <td>False</td>\n",
       "      <td>False</td>\n",
       "      <td>False</td>\n",
       "      <td>False</td>\n",
       "      <td>False</td>\n",
       "      <td>False</td>\n",
       "      <td>False</td>\n",
       "      <td>False</td>\n",
       "      <td>False</td>\n",
       "      <td>False</td>\n",
       "      <td>False</td>\n",
       "      <td>False</td>\n",
       "      <td>False</td>\n",
       "      <td>False</td>\n",
       "      <td>False</td>\n",
       "      <td>False</td>\n",
       "      <td>False</td>\n",
       "    </tr>\n",
       "    <tr>\n",
       "      <th>...</th>\n",
       "      <td>...</td>\n",
       "      <td>...</td>\n",
       "      <td>...</td>\n",
       "      <td>...</td>\n",
       "      <td>...</td>\n",
       "      <td>...</td>\n",
       "      <td>...</td>\n",
       "      <td>...</td>\n",
       "      <td>...</td>\n",
       "      <td>...</td>\n",
       "      <td>...</td>\n",
       "      <td>...</td>\n",
       "      <td>...</td>\n",
       "      <td>...</td>\n",
       "      <td>...</td>\n",
       "      <td>...</td>\n",
       "      <td>...</td>\n",
       "    </tr>\n",
       "    <tr>\n",
       "      <th>203060</th>\n",
       "      <td>False</td>\n",
       "      <td>False</td>\n",
       "      <td>False</td>\n",
       "      <td>False</td>\n",
       "      <td>False</td>\n",
       "      <td>False</td>\n",
       "      <td>False</td>\n",
       "      <td>False</td>\n",
       "      <td>False</td>\n",
       "      <td>False</td>\n",
       "      <td>False</td>\n",
       "      <td>False</td>\n",
       "      <td>False</td>\n",
       "      <td>False</td>\n",
       "      <td>False</td>\n",
       "      <td>False</td>\n",
       "      <td>False</td>\n",
       "    </tr>\n",
       "    <tr>\n",
       "      <th>203061</th>\n",
       "      <td>False</td>\n",
       "      <td>False</td>\n",
       "      <td>False</td>\n",
       "      <td>False</td>\n",
       "      <td>False</td>\n",
       "      <td>False</td>\n",
       "      <td>False</td>\n",
       "      <td>False</td>\n",
       "      <td>False</td>\n",
       "      <td>False</td>\n",
       "      <td>False</td>\n",
       "      <td>False</td>\n",
       "      <td>False</td>\n",
       "      <td>False</td>\n",
       "      <td>False</td>\n",
       "      <td>False</td>\n",
       "      <td>False</td>\n",
       "    </tr>\n",
       "    <tr>\n",
       "      <th>203062</th>\n",
       "      <td>False</td>\n",
       "      <td>False</td>\n",
       "      <td>False</td>\n",
       "      <td>False</td>\n",
       "      <td>False</td>\n",
       "      <td>False</td>\n",
       "      <td>False</td>\n",
       "      <td>False</td>\n",
       "      <td>False</td>\n",
       "      <td>False</td>\n",
       "      <td>False</td>\n",
       "      <td>False</td>\n",
       "      <td>False</td>\n",
       "      <td>False</td>\n",
       "      <td>False</td>\n",
       "      <td>False</td>\n",
       "      <td>False</td>\n",
       "    </tr>\n",
       "    <tr>\n",
       "      <th>203063</th>\n",
       "      <td>False</td>\n",
       "      <td>False</td>\n",
       "      <td>False</td>\n",
       "      <td>False</td>\n",
       "      <td>False</td>\n",
       "      <td>False</td>\n",
       "      <td>False</td>\n",
       "      <td>False</td>\n",
       "      <td>False</td>\n",
       "      <td>False</td>\n",
       "      <td>False</td>\n",
       "      <td>False</td>\n",
       "      <td>False</td>\n",
       "      <td>False</td>\n",
       "      <td>False</td>\n",
       "      <td>False</td>\n",
       "      <td>False</td>\n",
       "    </tr>\n",
       "    <tr>\n",
       "      <th>203064</th>\n",
       "      <td>False</td>\n",
       "      <td>False</td>\n",
       "      <td>False</td>\n",
       "      <td>False</td>\n",
       "      <td>False</td>\n",
       "      <td>False</td>\n",
       "      <td>False</td>\n",
       "      <td>False</td>\n",
       "      <td>False</td>\n",
       "      <td>False</td>\n",
       "      <td>False</td>\n",
       "      <td>False</td>\n",
       "      <td>False</td>\n",
       "      <td>False</td>\n",
       "      <td>False</td>\n",
       "      <td>False</td>\n",
       "      <td>False</td>\n",
       "    </tr>\n",
       "  </tbody>\n",
       "</table>\n",
       "<p>203065 rows × 17 columns</p>\n",
       "</div>"
      ],
      "text/plain": [
       "        HeartDiseaseorAttack  highbp  highchol  cholcheck  smokingstatus  \\\n",
       "0                      False   False     False      False          False   \n",
       "1                      False   False     False      False          False   \n",
       "2                      False   False     False      False          False   \n",
       "3                      False   False     False      False          False   \n",
       "4                      False   False     False      False          False   \n",
       "...                      ...     ...       ...        ...            ...   \n",
       "203060                 False   False     False      False          False   \n",
       "203061                 False   False     False      False          False   \n",
       "203062                 False   False     False      False          False   \n",
       "203063                 False   False     False      False          False   \n",
       "203064                 False   False     False      False          False   \n",
       "\n",
       "        stroke  diabetes  physactivity  fruits  veggies  hvyalcoholconsump  \\\n",
       "0        False     False         False   False    False              False   \n",
       "1        False     False         False   False    False              False   \n",
       "2        False     False         False   False    False              False   \n",
       "3        False     False         False   False    False              False   \n",
       "4        False     False         False   False    False              False   \n",
       "...        ...       ...           ...     ...      ...                ...   \n",
       "203060   False     False         False   False    False              False   \n",
       "203061   False     False         False   False    False              False   \n",
       "203062   False     False         False   False    False              False   \n",
       "203063   False     False         False   False    False              False   \n",
       "203064   False     False         False   False    False              False   \n",
       "\n",
       "        anyhealthcare  genhlth  diffwalk  Sex_assigned_at_birth    age  \\\n",
       "0               False    False     False                  False  False   \n",
       "1               False    False     False                  False  False   \n",
       "2               False    False     False                  False  False   \n",
       "3               False    False     False                  False  False   \n",
       "4               False    False     False                  False  False   \n",
       "...               ...      ...       ...                    ...    ...   \n",
       "203060          False    False     False                  False  False   \n",
       "203061          False    False     False                  False  False   \n",
       "203062          False    False     False                  False  False   \n",
       "203063          False    False     False                  False  False   \n",
       "203064          False    False     False                  False  False   \n",
       "\n",
       "        Education  \n",
       "0           False  \n",
       "1           False  \n",
       "2           False  \n",
       "3           False  \n",
       "4           False  \n",
       "...           ...  \n",
       "203060      False  \n",
       "203061      False  \n",
       "203062      False  \n",
       "203063      False  \n",
       "203064      False  \n",
       "\n",
       "[203065 rows x 17 columns]"
      ]
     },
     "execution_count": 17,
     "metadata": {},
     "output_type": "execute_result"
    }
   ],
   "source": [
    "heart_disease.isnull()"
   ]
  },
  {
   "cell_type": "code",
   "execution_count": 18,
   "id": "5365f2fd",
   "metadata": {},
   "outputs": [
    {
     "name": "stdout",
     "output_type": "stream",
     "text": [
      "HeartDiseaseorAttack     0\n",
      "highbp                   0\n",
      "highchol                 0\n",
      "cholcheck                0\n",
      "smokingstatus            0\n",
      "stroke                   0\n",
      "diabetes                 0\n",
      "physactivity             0\n",
      "fruits                   0\n",
      "veggies                  0\n",
      "hvyalcoholconsump        0\n",
      "anyhealthcare            0\n",
      "genhlth                  0\n",
      "diffwalk                 0\n",
      "Sex_assigned_at_birth    0\n",
      "age                      0\n",
      "Education                0\n",
      "dtype: int64\n"
     ]
    }
   ],
   "source": [
    "#=================================================-\n",
    "#### Slide 11: Check for NAs in the dataset  ####\n",
    "\n",
    "# Check for NAs. \n",
    "print(heart_disease.isnull().sum())\n",
    "\n",
    "\n"
   ]
  },
  {
   "cell_type": "code",
   "execution_count": 19,
   "id": "0ee49be4",
   "metadata": {},
   "outputs": [
    {
     "data": {
      "text/html": [
       "<div>\n",
       "<style scoped>\n",
       "    .dataframe tbody tr th:only-of-type {\n",
       "        vertical-align: middle;\n",
       "    }\n",
       "\n",
       "    .dataframe tbody tr th {\n",
       "        vertical-align: top;\n",
       "    }\n",
       "\n",
       "    .dataframe thead th {\n",
       "        text-align: right;\n",
       "    }\n",
       "</style>\n",
       "<table border=\"1\" class=\"dataframe\">\n",
       "  <thead>\n",
       "    <tr style=\"text-align: right;\">\n",
       "      <th></th>\n",
       "      <th>sex_assigned_at_birth_Male</th>\n",
       "    </tr>\n",
       "  </thead>\n",
       "  <tbody>\n",
       "    <tr>\n",
       "      <th>0</th>\n",
       "      <td>False</td>\n",
       "    </tr>\n",
       "    <tr>\n",
       "      <th>1</th>\n",
       "      <td>False</td>\n",
       "    </tr>\n",
       "    <tr>\n",
       "      <th>2</th>\n",
       "      <td>False</td>\n",
       "    </tr>\n",
       "    <tr>\n",
       "      <th>3</th>\n",
       "      <td>False</td>\n",
       "    </tr>\n",
       "    <tr>\n",
       "      <th>4</th>\n",
       "      <td>False</td>\n",
       "    </tr>\n",
       "    <tr>\n",
       "      <th>...</th>\n",
       "      <td>...</td>\n",
       "    </tr>\n",
       "    <tr>\n",
       "      <th>203060</th>\n",
       "      <td>True</td>\n",
       "    </tr>\n",
       "    <tr>\n",
       "      <th>203061</th>\n",
       "      <td>False</td>\n",
       "    </tr>\n",
       "    <tr>\n",
       "      <th>203062</th>\n",
       "      <td>True</td>\n",
       "    </tr>\n",
       "    <tr>\n",
       "      <th>203063</th>\n",
       "      <td>False</td>\n",
       "    </tr>\n",
       "    <tr>\n",
       "      <th>203064</th>\n",
       "      <td>True</td>\n",
       "    </tr>\n",
       "  </tbody>\n",
       "</table>\n",
       "<p>203065 rows × 1 columns</p>\n",
       "</div>"
      ],
      "text/plain": [
       "        sex_assigned_at_birth_Male\n",
       "0                            False\n",
       "1                            False\n",
       "2                            False\n",
       "3                            False\n",
       "4                            False\n",
       "...                            ...\n",
       "203060                        True\n",
       "203061                       False\n",
       "203062                        True\n",
       "203063                       False\n",
       "203064                        True\n",
       "\n",
       "[203065 rows x 1 columns]"
      ]
     },
     "execution_count": 19,
     "metadata": {},
     "output_type": "execute_result"
    }
   ],
   "source": [
    "sex_assigned_at_birth = pd.get_dummies(heart_disease['Sex_assigned_at_birth'], prefix = 'sex_assigned_at_birth', drop_first = True)\n",
    "sex_assigned_at_birth"
   ]
  },
  {
   "cell_type": "code",
   "execution_count": 21,
   "id": "ad5279ab",
   "metadata": {},
   "outputs": [
    {
     "data": {
      "text/html": [
       "<div>\n",
       "<style scoped>\n",
       "    .dataframe tbody tr th:only-of-type {\n",
       "        vertical-align: middle;\n",
       "    }\n",
       "\n",
       "    .dataframe tbody tr th {\n",
       "        vertical-align: top;\n",
       "    }\n",
       "\n",
       "    .dataframe thead th {\n",
       "        text-align: right;\n",
       "    }\n",
       "</style>\n",
       "<table border=\"1\" class=\"dataframe\">\n",
       "  <thead>\n",
       "    <tr style=\"text-align: right;\">\n",
       "      <th></th>\n",
       "      <th>education_Grades 1-8</th>\n",
       "      <th>education_Grades 9-11</th>\n",
       "      <th>education_High school graduate</th>\n",
       "      <th>education_Never attended or only kindergarten</th>\n",
       "      <th>education_Some college/technical school</th>\n",
       "    </tr>\n",
       "  </thead>\n",
       "  <tbody>\n",
       "    <tr>\n",
       "      <th>0</th>\n",
       "      <td>False</td>\n",
       "      <td>False</td>\n",
       "      <td>True</td>\n",
       "      <td>False</td>\n",
       "      <td>False</td>\n",
       "    </tr>\n",
       "    <tr>\n",
       "      <th>1</th>\n",
       "      <td>False</td>\n",
       "      <td>False</td>\n",
       "      <td>False</td>\n",
       "      <td>False</td>\n",
       "      <td>False</td>\n",
       "    </tr>\n",
       "    <tr>\n",
       "      <th>2</th>\n",
       "      <td>False</td>\n",
       "      <td>False</td>\n",
       "      <td>True</td>\n",
       "      <td>False</td>\n",
       "      <td>False</td>\n",
       "    </tr>\n",
       "    <tr>\n",
       "      <th>3</th>\n",
       "      <td>False</td>\n",
       "      <td>True</td>\n",
       "      <td>False</td>\n",
       "      <td>False</td>\n",
       "      <td>False</td>\n",
       "    </tr>\n",
       "    <tr>\n",
       "      <th>4</th>\n",
       "      <td>False</td>\n",
       "      <td>False</td>\n",
       "      <td>False</td>\n",
       "      <td>False</td>\n",
       "      <td>True</td>\n",
       "    </tr>\n",
       "    <tr>\n",
       "      <th>...</th>\n",
       "      <td>...</td>\n",
       "      <td>...</td>\n",
       "      <td>...</td>\n",
       "      <td>...</td>\n",
       "      <td>...</td>\n",
       "    </tr>\n",
       "    <tr>\n",
       "      <th>203060</th>\n",
       "      <td>False</td>\n",
       "      <td>True</td>\n",
       "      <td>False</td>\n",
       "      <td>False</td>\n",
       "      <td>False</td>\n",
       "    </tr>\n",
       "    <tr>\n",
       "      <th>203061</th>\n",
       "      <td>False</td>\n",
       "      <td>False</td>\n",
       "      <td>False</td>\n",
       "      <td>False</td>\n",
       "      <td>False</td>\n",
       "    </tr>\n",
       "    <tr>\n",
       "      <th>203062</th>\n",
       "      <td>True</td>\n",
       "      <td>False</td>\n",
       "      <td>False</td>\n",
       "      <td>False</td>\n",
       "      <td>False</td>\n",
       "    </tr>\n",
       "    <tr>\n",
       "      <th>203063</th>\n",
       "      <td>False</td>\n",
       "      <td>False</td>\n",
       "      <td>False</td>\n",
       "      <td>False</td>\n",
       "      <td>False</td>\n",
       "    </tr>\n",
       "    <tr>\n",
       "      <th>203064</th>\n",
       "      <td>True</td>\n",
       "      <td>False</td>\n",
       "      <td>False</td>\n",
       "      <td>False</td>\n",
       "      <td>False</td>\n",
       "    </tr>\n",
       "  </tbody>\n",
       "</table>\n",
       "<p>203065 rows × 5 columns</p>\n",
       "</div>"
      ],
      "text/plain": [
       "        education_Grades 1-8  education_Grades 9-11  \\\n",
       "0                      False                  False   \n",
       "1                      False                  False   \n",
       "2                      False                  False   \n",
       "3                      False                   True   \n",
       "4                      False                  False   \n",
       "...                      ...                    ...   \n",
       "203060                 False                   True   \n",
       "203061                 False                  False   \n",
       "203062                  True                  False   \n",
       "203063                 False                  False   \n",
       "203064                  True                  False   \n",
       "\n",
       "        education_High school graduate  \\\n",
       "0                                 True   \n",
       "1                                False   \n",
       "2                                 True   \n",
       "3                                False   \n",
       "4                                False   \n",
       "...                                ...   \n",
       "203060                           False   \n",
       "203061                           False   \n",
       "203062                           False   \n",
       "203063                           False   \n",
       "203064                           False   \n",
       "\n",
       "        education_Never attended or only kindergarten  \\\n",
       "0                                               False   \n",
       "1                                               False   \n",
       "2                                               False   \n",
       "3                                               False   \n",
       "4                                               False   \n",
       "...                                               ...   \n",
       "203060                                          False   \n",
       "203061                                          False   \n",
       "203062                                          False   \n",
       "203063                                          False   \n",
       "203064                                          False   \n",
       "\n",
       "        education_Some college/technical school  \n",
       "0                                         False  \n",
       "1                                         False  \n",
       "2                                         False  \n",
       "3                                         False  \n",
       "4                                          True  \n",
       "...                                         ...  \n",
       "203060                                    False  \n",
       "203061                                    False  \n",
       "203062                                    False  \n",
       "203063                                    False  \n",
       "203064                                    False  \n",
       "\n",
       "[203065 rows x 5 columns]"
      ]
     },
     "execution_count": 21,
     "metadata": {},
     "output_type": "execute_result"
    }
   ],
   "source": [
    "education = pd.get_dummies(heart_disease['Education'], prefix = 'education', drop_first = True)\n",
    "education"
   ]
  },
  {
   "cell_type": "code",
   "execution_count": 22,
   "id": "5c6a13ac",
   "metadata": {},
   "outputs": [
    {
     "name": "stdout",
     "output_type": "stream",
     "text": [
      "   HeartDiseaseorAttack  highbp  highchol  cholcheck  smokingstatus  stroke  \\\n",
      "0                     0       1         1          1              1       0   \n",
      "1                     0       0         0          0              1       0   \n",
      "2                     0       1         1          1              0       0   \n",
      "3                     0       1         0          1              0       0   \n",
      "4                     0       1         1          1              0       0   \n",
      "\n",
      "   diabetes  physactivity  fruits  veggies  ...  anyhealthcare  genhlth  \\\n",
      "0         0             0       0        1  ...              1        5   \n",
      "1         0             1       0        0  ...              0        3   \n",
      "2         0             0       1        0  ...              1        5   \n",
      "3         0             1       1        1  ...              1        2   \n",
      "4         0             1       1        1  ...              1        2   \n",
      "\n",
      "   diffwalk  age  sex_assigned_at_birth_Male  education_Grades 1-8  \\\n",
      "0         1    9                       False                 False   \n",
      "1         0    7                       False                 False   \n",
      "2         1    9                       False                 False   \n",
      "3         0   11                       False                 False   \n",
      "4         0   11                       False                 False   \n",
      "\n",
      "   education_Grades 9-11  education_High school graduate  \\\n",
      "0                  False                            True   \n",
      "1                  False                           False   \n",
      "2                  False                            True   \n",
      "3                   True                           False   \n",
      "4                  False                           False   \n",
      "\n",
      "   education_Never attended or only kindergarten  \\\n",
      "0                                          False   \n",
      "1                                          False   \n",
      "2                                          False   \n",
      "3                                          False   \n",
      "4                                          False   \n",
      "\n",
      "   education_Some college/technical school  \n",
      "0                                    False  \n",
      "1                                    False  \n",
      "2                                    False  \n",
      "3                                    False  \n",
      "4                                     True  \n",
      "\n",
      "[5 rows x 21 columns]\n"
     ]
    }
   ],
   "source": [
    "#=================================================-\n",
    "#### Slide 15: Transform and replace categorical variables  ####\n",
    "\n",
    "# Convert 'Sex_assigned_at_birth' into dummy variables.\n",
    "sex_assigned_at_birth = pd.get_dummies(heart_disease['Sex_assigned_at_birth'], prefix = 'sex_assigned_at_birth', drop_first = True)\n",
    "# Convert 'education' into dummy variables.\n",
    "education = pd.get_dummies(heart_disease['Education'], prefix = 'education', drop_first = True)\n",
    "\n",
    "# Drop `Sex_assigned_at_birth`, `Education`from the data.\n",
    "heart_disease.drop(['Sex_assigned_at_birth', 'Education'], axis = 1, inplace = True)\n",
    "# Concatenate `sex_assigned_at_birth`, `education` dummies to our dataset.\n",
    "heart_disease = pd.concat([heart_disease, sex_assigned_at_birth, education], axis=1)\n",
    "print(heart_disease.head())\n",
    "\n",
    "\n"
   ]
  },
  {
   "cell_type": "code",
   "execution_count": 23,
   "id": "8537830f",
   "metadata": {},
   "outputs": [
    {
     "data": {
      "text/html": [
       "<div>\n",
       "<style scoped>\n",
       "    .dataframe tbody tr th:only-of-type {\n",
       "        vertical-align: middle;\n",
       "    }\n",
       "\n",
       "    .dataframe tbody tr th {\n",
       "        vertical-align: top;\n",
       "    }\n",
       "\n",
       "    .dataframe thead th {\n",
       "        text-align: right;\n",
       "    }\n",
       "</style>\n",
       "<table border=\"1\" class=\"dataframe\">\n",
       "  <thead>\n",
       "    <tr style=\"text-align: right;\">\n",
       "      <th></th>\n",
       "      <th>highbp</th>\n",
       "      <th>highchol</th>\n",
       "      <th>cholcheck</th>\n",
       "      <th>smokingstatus</th>\n",
       "      <th>stroke</th>\n",
       "      <th>diabetes</th>\n",
       "      <th>physactivity</th>\n",
       "      <th>fruits</th>\n",
       "      <th>veggies</th>\n",
       "      <th>hvyalcoholconsump</th>\n",
       "      <th>anyhealthcare</th>\n",
       "      <th>genhlth</th>\n",
       "      <th>diffwalk</th>\n",
       "      <th>age</th>\n",
       "      <th>sex_assigned_at_birth_Male</th>\n",
       "      <th>education_Grades 1-8</th>\n",
       "      <th>education_Grades 9-11</th>\n",
       "      <th>education_High school graduate</th>\n",
       "      <th>education_Never attended or only kindergarten</th>\n",
       "      <th>education_Some college/technical school</th>\n",
       "    </tr>\n",
       "  </thead>\n",
       "  <tbody>\n",
       "    <tr>\n",
       "      <th>0</th>\n",
       "      <td>1</td>\n",
       "      <td>1</td>\n",
       "      <td>1</td>\n",
       "      <td>1</td>\n",
       "      <td>0</td>\n",
       "      <td>0</td>\n",
       "      <td>0</td>\n",
       "      <td>0</td>\n",
       "      <td>1</td>\n",
       "      <td>0</td>\n",
       "      <td>1</td>\n",
       "      <td>5</td>\n",
       "      <td>1</td>\n",
       "      <td>9</td>\n",
       "      <td>False</td>\n",
       "      <td>False</td>\n",
       "      <td>False</td>\n",
       "      <td>True</td>\n",
       "      <td>False</td>\n",
       "      <td>False</td>\n",
       "    </tr>\n",
       "    <tr>\n",
       "      <th>1</th>\n",
       "      <td>0</td>\n",
       "      <td>0</td>\n",
       "      <td>0</td>\n",
       "      <td>1</td>\n",
       "      <td>0</td>\n",
       "      <td>0</td>\n",
       "      <td>1</td>\n",
       "      <td>0</td>\n",
       "      <td>0</td>\n",
       "      <td>0</td>\n",
       "      <td>0</td>\n",
       "      <td>3</td>\n",
       "      <td>0</td>\n",
       "      <td>7</td>\n",
       "      <td>False</td>\n",
       "      <td>False</td>\n",
       "      <td>False</td>\n",
       "      <td>False</td>\n",
       "      <td>False</td>\n",
       "      <td>False</td>\n",
       "    </tr>\n",
       "    <tr>\n",
       "      <th>2</th>\n",
       "      <td>1</td>\n",
       "      <td>1</td>\n",
       "      <td>1</td>\n",
       "      <td>0</td>\n",
       "      <td>0</td>\n",
       "      <td>0</td>\n",
       "      <td>0</td>\n",
       "      <td>1</td>\n",
       "      <td>0</td>\n",
       "      <td>0</td>\n",
       "      <td>1</td>\n",
       "      <td>5</td>\n",
       "      <td>1</td>\n",
       "      <td>9</td>\n",
       "      <td>False</td>\n",
       "      <td>False</td>\n",
       "      <td>False</td>\n",
       "      <td>True</td>\n",
       "      <td>False</td>\n",
       "      <td>False</td>\n",
       "    </tr>\n",
       "    <tr>\n",
       "      <th>3</th>\n",
       "      <td>1</td>\n",
       "      <td>0</td>\n",
       "      <td>1</td>\n",
       "      <td>0</td>\n",
       "      <td>0</td>\n",
       "      <td>0</td>\n",
       "      <td>1</td>\n",
       "      <td>1</td>\n",
       "      <td>1</td>\n",
       "      <td>0</td>\n",
       "      <td>1</td>\n",
       "      <td>2</td>\n",
       "      <td>0</td>\n",
       "      <td>11</td>\n",
       "      <td>False</td>\n",
       "      <td>False</td>\n",
       "      <td>True</td>\n",
       "      <td>False</td>\n",
       "      <td>False</td>\n",
       "      <td>False</td>\n",
       "    </tr>\n",
       "    <tr>\n",
       "      <th>4</th>\n",
       "      <td>1</td>\n",
       "      <td>1</td>\n",
       "      <td>1</td>\n",
       "      <td>0</td>\n",
       "      <td>0</td>\n",
       "      <td>0</td>\n",
       "      <td>1</td>\n",
       "      <td>1</td>\n",
       "      <td>1</td>\n",
       "      <td>0</td>\n",
       "      <td>1</td>\n",
       "      <td>2</td>\n",
       "      <td>0</td>\n",
       "      <td>11</td>\n",
       "      <td>False</td>\n",
       "      <td>False</td>\n",
       "      <td>False</td>\n",
       "      <td>False</td>\n",
       "      <td>False</td>\n",
       "      <td>True</td>\n",
       "    </tr>\n",
       "    <tr>\n",
       "      <th>...</th>\n",
       "      <td>...</td>\n",
       "      <td>...</td>\n",
       "      <td>...</td>\n",
       "      <td>...</td>\n",
       "      <td>...</td>\n",
       "      <td>...</td>\n",
       "      <td>...</td>\n",
       "      <td>...</td>\n",
       "      <td>...</td>\n",
       "      <td>...</td>\n",
       "      <td>...</td>\n",
       "      <td>...</td>\n",
       "      <td>...</td>\n",
       "      <td>...</td>\n",
       "      <td>...</td>\n",
       "      <td>...</td>\n",
       "      <td>...</td>\n",
       "      <td>...</td>\n",
       "      <td>...</td>\n",
       "      <td>...</td>\n",
       "    </tr>\n",
       "    <tr>\n",
       "      <th>203060</th>\n",
       "      <td>1</td>\n",
       "      <td>1</td>\n",
       "      <td>1</td>\n",
       "      <td>1</td>\n",
       "      <td>0</td>\n",
       "      <td>2</td>\n",
       "      <td>0</td>\n",
       "      <td>0</td>\n",
       "      <td>0</td>\n",
       "      <td>0</td>\n",
       "      <td>1</td>\n",
       "      <td>5</td>\n",
       "      <td>1</td>\n",
       "      <td>10</td>\n",
       "      <td>True</td>\n",
       "      <td>False</td>\n",
       "      <td>True</td>\n",
       "      <td>False</td>\n",
       "      <td>False</td>\n",
       "      <td>False</td>\n",
       "    </tr>\n",
       "    <tr>\n",
       "      <th>203061</th>\n",
       "      <td>0</td>\n",
       "      <td>0</td>\n",
       "      <td>1</td>\n",
       "      <td>0</td>\n",
       "      <td>0</td>\n",
       "      <td>0</td>\n",
       "      <td>0</td>\n",
       "      <td>1</td>\n",
       "      <td>1</td>\n",
       "      <td>0</td>\n",
       "      <td>1</td>\n",
       "      <td>2</td>\n",
       "      <td>0</td>\n",
       "      <td>7</td>\n",
       "      <td>False</td>\n",
       "      <td>False</td>\n",
       "      <td>False</td>\n",
       "      <td>False</td>\n",
       "      <td>False</td>\n",
       "      <td>False</td>\n",
       "    </tr>\n",
       "    <tr>\n",
       "      <th>203062</th>\n",
       "      <td>1</td>\n",
       "      <td>1</td>\n",
       "      <td>1</td>\n",
       "      <td>1</td>\n",
       "      <td>1</td>\n",
       "      <td>2</td>\n",
       "      <td>0</td>\n",
       "      <td>1</td>\n",
       "      <td>1</td>\n",
       "      <td>0</td>\n",
       "      <td>1</td>\n",
       "      <td>5</td>\n",
       "      <td>1</td>\n",
       "      <td>9</td>\n",
       "      <td>True</td>\n",
       "      <td>True</td>\n",
       "      <td>False</td>\n",
       "      <td>False</td>\n",
       "      <td>False</td>\n",
       "      <td>False</td>\n",
       "    </tr>\n",
       "    <tr>\n",
       "      <th>203063</th>\n",
       "      <td>1</td>\n",
       "      <td>0</td>\n",
       "      <td>1</td>\n",
       "      <td>1</td>\n",
       "      <td>0</td>\n",
       "      <td>2</td>\n",
       "      <td>0</td>\n",
       "      <td>1</td>\n",
       "      <td>1</td>\n",
       "      <td>0</td>\n",
       "      <td>1</td>\n",
       "      <td>5</td>\n",
       "      <td>1</td>\n",
       "      <td>11</td>\n",
       "      <td>False</td>\n",
       "      <td>False</td>\n",
       "      <td>False</td>\n",
       "      <td>False</td>\n",
       "      <td>False</td>\n",
       "      <td>False</td>\n",
       "    </tr>\n",
       "    <tr>\n",
       "      <th>203064</th>\n",
       "      <td>0</td>\n",
       "      <td>0</td>\n",
       "      <td>1</td>\n",
       "      <td>0</td>\n",
       "      <td>0</td>\n",
       "      <td>2</td>\n",
       "      <td>1</td>\n",
       "      <td>1</td>\n",
       "      <td>1</td>\n",
       "      <td>0</td>\n",
       "      <td>1</td>\n",
       "      <td>2</td>\n",
       "      <td>0</td>\n",
       "      <td>11</td>\n",
       "      <td>True</td>\n",
       "      <td>True</td>\n",
       "      <td>False</td>\n",
       "      <td>False</td>\n",
       "      <td>False</td>\n",
       "      <td>False</td>\n",
       "    </tr>\n",
       "  </tbody>\n",
       "</table>\n",
       "<p>203065 rows × 20 columns</p>\n",
       "</div>"
      ],
      "text/plain": [
       "        highbp  highchol  cholcheck  smokingstatus  stroke  diabetes  \\\n",
       "0            1         1          1              1       0         0   \n",
       "1            0         0          0              1       0         0   \n",
       "2            1         1          1              0       0         0   \n",
       "3            1         0          1              0       0         0   \n",
       "4            1         1          1              0       0         0   \n",
       "...        ...       ...        ...            ...     ...       ...   \n",
       "203060       1         1          1              1       0         2   \n",
       "203061       0         0          1              0       0         0   \n",
       "203062       1         1          1              1       1         2   \n",
       "203063       1         0          1              1       0         2   \n",
       "203064       0         0          1              0       0         2   \n",
       "\n",
       "        physactivity  fruits  veggies  hvyalcoholconsump  anyhealthcare  \\\n",
       "0                  0       0        1                  0              1   \n",
       "1                  1       0        0                  0              0   \n",
       "2                  0       1        0                  0              1   \n",
       "3                  1       1        1                  0              1   \n",
       "4                  1       1        1                  0              1   \n",
       "...              ...     ...      ...                ...            ...   \n",
       "203060             0       0        0                  0              1   \n",
       "203061             0       1        1                  0              1   \n",
       "203062             0       1        1                  0              1   \n",
       "203063             0       1        1                  0              1   \n",
       "203064             1       1        1                  0              1   \n",
       "\n",
       "        genhlth  diffwalk  age  sex_assigned_at_birth_Male  \\\n",
       "0             5         1    9                       False   \n",
       "1             3         0    7                       False   \n",
       "2             5         1    9                       False   \n",
       "3             2         0   11                       False   \n",
       "4             2         0   11                       False   \n",
       "...         ...       ...  ...                         ...   \n",
       "203060        5         1   10                        True   \n",
       "203061        2         0    7                       False   \n",
       "203062        5         1    9                        True   \n",
       "203063        5         1   11                       False   \n",
       "203064        2         0   11                        True   \n",
       "\n",
       "        education_Grades 1-8  education_Grades 9-11  \\\n",
       "0                      False                  False   \n",
       "1                      False                  False   \n",
       "2                      False                  False   \n",
       "3                      False                   True   \n",
       "4                      False                  False   \n",
       "...                      ...                    ...   \n",
       "203060                 False                   True   \n",
       "203061                 False                  False   \n",
       "203062                  True                  False   \n",
       "203063                 False                  False   \n",
       "203064                  True                  False   \n",
       "\n",
       "        education_High school graduate  \\\n",
       "0                                 True   \n",
       "1                                False   \n",
       "2                                 True   \n",
       "3                                False   \n",
       "4                                False   \n",
       "...                                ...   \n",
       "203060                           False   \n",
       "203061                           False   \n",
       "203062                           False   \n",
       "203063                           False   \n",
       "203064                           False   \n",
       "\n",
       "        education_Never attended or only kindergarten  \\\n",
       "0                                               False   \n",
       "1                                               False   \n",
       "2                                               False   \n",
       "3                                               False   \n",
       "4                                               False   \n",
       "...                                               ...   \n",
       "203060                                          False   \n",
       "203061                                          False   \n",
       "203062                                          False   \n",
       "203063                                          False   \n",
       "203064                                          False   \n",
       "\n",
       "        education_Some college/technical school  \n",
       "0                                         False  \n",
       "1                                         False  \n",
       "2                                         False  \n",
       "3                                         False  \n",
       "4                                          True  \n",
       "...                                         ...  \n",
       "203060                                    False  \n",
       "203061                                    False  \n",
       "203062                                    False  \n",
       "203063                                    False  \n",
       "203064                                    False  \n",
       "\n",
       "[203065 rows x 20 columns]"
      ]
     },
     "execution_count": 23,
     "metadata": {},
     "output_type": "execute_result"
    }
   ],
   "source": [
    "#### Slide 16: Data prep: split  ####\n",
    "\n",
    "# Separate predictors from data.\n",
    "X = heart_disease.drop(['HeartDiseaseorAttack'], axis=1)\n",
    "\n",
    "# Separate target from data.\n",
    "y = heart_disease['HeartDiseaseorAttack']\n",
    "\n",
    "X"
   ]
  },
  {
   "cell_type": "code",
   "execution_count": 24,
   "id": "cdd5f35f",
   "metadata": {},
   "outputs": [
    {
     "data": {
      "text/plain": [
       "0         0\n",
       "1         0\n",
       "2         0\n",
       "3         0\n",
       "4         0\n",
       "         ..\n",
       "203060    0\n",
       "203061    0\n",
       "203062    1\n",
       "203063    1\n",
       "203064    0\n",
       "Name: HeartDiseaseorAttack, Length: 203065, dtype: int64"
      ]
     },
     "execution_count": 24,
     "metadata": {},
     "output_type": "execute_result"
    }
   ],
   "source": [
    "y"
   ]
  },
  {
   "cell_type": "code",
   "execution_count": 39,
   "id": "44e05c07",
   "metadata": {},
   "outputs": [
    {
     "data": {
      "text/plain": [
       "0.09461010021421712"
      ]
     },
     "execution_count": 39,
     "metadata": {},
     "output_type": "execute_result"
    }
   ],
   "source": [
    "y.mean()"
   ]
  },
  {
   "cell_type": "code",
   "execution_count": 40,
   "id": "895c5d47",
   "metadata": {},
   "outputs": [
    {
     "data": {
      "text/plain": [
       "0.9054"
      ]
     },
     "execution_count": 40,
     "metadata": {},
     "output_type": "execute_result"
    }
   ],
   "source": [
    "1-0.0946"
   ]
  },
  {
   "cell_type": "code",
   "execution_count": 25,
   "id": "e1a67f4f",
   "metadata": {},
   "outputs": [
    {
     "name": "stdout",
     "output_type": "stream",
     "text": [
      "Train shape: (142145, 20) Test shape: (60920, 20)\n"
     ]
    }
   ],
   "source": [
    "#=================================================-\n",
    "#### Slide 16: Data prep: split  ####\n",
    "\n",
    "# Separate predictors from data.\n",
    "X = heart_disease.drop(['HeartDiseaseorAttack'], axis=1)\n",
    "\n",
    "# Separate target from data.\n",
    "y = heart_disease['HeartDiseaseorAttack']\n",
    "# Split data into train and test set, use a 70 - 30 split.\n",
    "X_train, X_test, y_train, y_test = train_test_split(X.values,\n",
    "                                                    y,\n",
    "                                                    test_size = .3,\n",
    "                                                    random_state = 1)\n",
    "\n",
    "print(\"Train shape:\", X_train.shape, \"Test shape:\", X_test.shape)\n",
    "\n",
    "\n"
   ]
  },
  {
   "cell_type": "code",
   "execution_count": null,
   "id": "11f41d45",
   "metadata": {},
   "outputs": [],
   "source": [
    "build the model\n",
    "\n",
    "on the train set\n",
    "\n",
    "\n",
    "test-"
   ]
  },
  {
   "cell_type": "code",
   "execution_count": 26,
   "id": "e1448933",
   "metadata": {},
   "outputs": [
    {
     "data": {
      "text/plain": [
       "array([[0., 0., 1., ..., 0., 0., 0.],\n",
       "       [0., 0., 1., ..., 0., 0., 0.],\n",
       "       [0., 1., 1., ..., 1., 0., 0.],\n",
       "       ...,\n",
       "       [0., 1., 1., ..., 0., 0., 1.],\n",
       "       [0., 0., 1., ..., 0., 0., 0.],\n",
       "       [1., 0., 1., ..., 0., 0., 0.]])"
      ]
     },
     "execution_count": 26,
     "metadata": {},
     "output_type": "execute_result"
    }
   ],
   "source": [
    "#=================================================-\n",
    "#### Slide 17: Data prep: scale with MinMaxScaler  ####\n",
    "\n",
    "# Transforms each feature to a given range.\n",
    "# The default is the range between 0 and 1.\n",
    "min_max_scaler = preprocessing.MinMaxScaler()\n",
    "X_train_scaled = min_max_scaler.fit_transform(X_train)\n",
    "X_test_scaled = min_max_scaler.transform(X_test)\n",
    "\n",
    "X_train_scaled\n",
    "\n",
    "#######################################################\n",
    "####  CONGRATULATIONS ON COMPLETING THIS MODULE!   ####\n",
    "#######################################################\n"
   ]
  },
  {
   "cell_type": "code",
   "execution_count": null,
   "id": "b1e4ff7f",
   "metadata": {},
   "outputs": [],
   "source": [
    "#######################################################\n",
    "#######################################################\n",
    "############    COPYRIGHT - DATA SOCIETY   ############\n",
    "#######################################################\n",
    "#######################################################\n",
    "\n",
    "## INTROTONEURALNETWORKS/2 BUILDINGNEURALNETWORKS/INTROTONEURALNETWORKS BUILDINGNEURALNETWORKS 2 ##\n",
    "\n",
    "## NOTE: To run individual pieces of code, select the line of code and\n",
    "##       press ctrl + enter for PCs or command + enter for Macs\n",
    "\n",
    "\n"
   ]
  },
  {
   "cell_type": "code",
   "execution_count": 28,
   "id": "1ab436c8",
   "metadata": {},
   "outputs": [],
   "source": [
    "#=================================================-\n",
    "#### Slide 2: Build the model architecture  ####\n",
    "\n",
    "# Build neural network model\n",
    "nn = MLPClassifier(hidden_layer_sizes = (64), #<- 64 neurons for hidden layer\n",
    "                   random_state = 1)          #<- set seed to 1\n",
    "\n",
    "\n",
    "\n"
   ]
  },
  {
   "cell_type": "code",
   "execution_count": 27,
   "id": "2ff99476",
   "metadata": {},
   "outputs": [
    {
     "data": {
      "text/plain": [
       "array([[0., 0., 1., ..., 0., 0., 0.],\n",
       "       [0., 0., 1., ..., 0., 0., 0.],\n",
       "       [0., 1., 1., ..., 1., 0., 0.],\n",
       "       ...,\n",
       "       [0., 1., 1., ..., 0., 0., 1.],\n",
       "       [0., 0., 1., ..., 0., 0., 0.],\n",
       "       [1., 0., 1., ..., 0., 0., 0.]])"
      ]
     },
     "execution_count": 27,
     "metadata": {},
     "output_type": "execute_result"
    }
   ],
   "source": [
    "X_train_scaled"
   ]
  },
  {
   "cell_type": "code",
   "execution_count": 29,
   "id": "adffb1cd",
   "metadata": {},
   "outputs": [
    {
     "data": {
      "text/plain": [
       "34057     0\n",
       "38232     0\n",
       "43326     0\n",
       "62703     0\n",
       "104659    0\n",
       "         ..\n",
       "73349     0\n",
       "109259    0\n",
       "50057     0\n",
       "5192      0\n",
       "128037    0\n",
       "Name: HeartDiseaseorAttack, Length: 142145, dtype: int64"
      ]
     },
     "execution_count": 29,
     "metadata": {},
     "output_type": "execute_result"
    }
   ],
   "source": [
    "y_train"
   ]
  },
  {
   "cell_type": "code",
   "execution_count": null,
   "id": "e02e7846",
   "metadata": {},
   "outputs": [],
   "source": [
    "y_train"
   ]
  },
  {
   "cell_type": "code",
   "execution_count": 30,
   "id": "33fb601b",
   "metadata": {},
   "outputs": [],
   "source": [
    "#=================================================-\n",
    "#### Slide 3: Fit the model to training data  ####\n",
    "\n",
    "# Fit the saved model to the training data\n",
    "fit_nn = nn.fit(X_train_scaled, y_train)  \n",
    "\n",
    "\n"
   ]
  },
  {
   "cell_type": "code",
   "execution_count": 31,
   "id": "c6156395",
   "metadata": {},
   "outputs": [
    {
     "name": "stdout",
     "output_type": "stream",
     "text": [
      "Train Accuracy: 0.9089099159309156\n"
     ]
    }
   ],
   "source": [
    "#=================================================-\n",
    "#### Slide 4: Inspect accuracy of training model  ####\n",
    "\n",
    "# Compute accuracy using training data.\n",
    "acc_train_nn = fit_nn.score(X_train_scaled, \n",
    "                            y_train)\n",
    "print (\"Train Accuracy:\", acc_train_nn)\n",
    "\n",
    "\n"
   ]
  },
  {
   "cell_type": "code",
   "execution_count": 32,
   "id": "a3faca21",
   "metadata": {},
   "outputs": [
    {
     "name": "stdout",
     "output_type": "stream",
     "text": [
      "[0 0 0 ... 0 0 0]\n",
      "Accuracy on test data:  0.9063361785948786\n"
     ]
    }
   ],
   "source": [
    "#=================================================-\n",
    "#### Slide 10: Predict on test data  ####\n",
    "\n",
    "# Predict on test data.\n",
    "predicted_values_nn = fit_nn.predict(X_test_scaled)\n",
    "print(predicted_values_nn)\n",
    "\n",
    "# Compute test model accuracy score.\n",
    "test_accuracy_score = metrics.accuracy_score(y_test, predicted_values_nn)\n",
    "print(\"Accuracy on test data: \", test_accuracy_score)\n",
    "\n",
    "\n"
   ]
  },
  {
   "cell_type": "code",
   "execution_count": 41,
   "id": "64382ae7",
   "metadata": {},
   "outputs": [
    {
     "data": {
      "text/plain": [
       "0.9063361785948786"
      ]
     },
     "execution_count": 41,
     "metadata": {},
     "output_type": "execute_result"
    }
   ],
   "source": [
    "(54583 + 631) / (54583 + 631 + 483 + 5223)"
   ]
  },
  {
   "cell_type": "code",
   "execution_count": 42,
   "id": "f3d24a24",
   "metadata": {},
   "outputs": [
    {
     "data": {
      "text/plain": [
       "0.09366382140512142"
      ]
     },
     "execution_count": 42,
     "metadata": {},
     "output_type": "execute_result"
    }
   ],
   "source": [
    "1-0.9063361785948786"
   ]
  },
  {
   "cell_type": "code",
   "execution_count": 37,
   "id": "9c9bb412",
   "metadata": {},
   "outputs": [
    {
     "name": "stdout",
     "output_type": "stream",
     "text": [
      "[[54583   483]\n",
      " [ 5223   631]]\n"
     ]
    }
   ],
   "source": [
    "#=================================================-\n",
    "#### Slide 11: Confusion matrix   ####\n",
    "\n",
    "# Take a look at test data confusion matrix.\n",
    "conf_matrix_test = metrics.confusion_matrix(y_test, predicted_values_nn)\n",
    "print(conf_matrix_test)\n",
    "\n",
    "\n"
   ]
  },
  {
   "cell_type": "markdown",
   "id": "c35f440b",
   "metadata": {},
   "source": [
    "                  Predicted Negative  | Predicted Positives\n",
    "Actual Negatives: True Negative(TN)   |False Positive(FP)\n",
    "Actual Positives: False Negative (FN) |True Positive (TP)"
   ]
  },
  {
   "cell_type": "code",
   "execution_count": 43,
   "id": "32a09366",
   "metadata": {},
   "outputs": [
    {
     "data": {
      "text/plain": [
       "0.10778954560983943"
      ]
     },
     "execution_count": 43,
     "metadata": {},
     "output_type": "execute_result"
    }
   ],
   "source": [
    "# True Positive Rate (True Positive/Actual Yes)\n",
    "631/(631+5223)\n",
    "\n"
   ]
  },
  {
   "cell_type": "code",
   "execution_count": 44,
   "id": "755c29a9",
   "metadata": {},
   "outputs": [
    {
     "data": {
      "text/plain": [
       "0.008771292630661388"
      ]
     },
     "execution_count": 44,
     "metadata": {},
     "output_type": "execute_result"
    }
   ],
   "source": [
    "# False Positive Rate\n",
    "483/(483 +54583)"
   ]
  },
  {
   "cell_type": "code",
   "execution_count": 45,
   "id": "a497d7a5",
   "metadata": {},
   "outputs": [
    {
     "data": {
      "text/plain": [
       "0.566427289048474"
      ]
     },
     "execution_count": 45,
     "metadata": {},
     "output_type": "execute_result"
    }
   ],
   "source": [
    "# Precision\n",
    "631/(483+631)"
   ]
  },
  {
   "cell_type": "code",
   "execution_count": null,
   "id": "4e774419",
   "metadata": {},
   "outputs": [],
   "source": [
    "# Recall\n"
   ]
  },
  {
   "cell_type": "code",
   "execution_count": 46,
   "id": "b5b9e161",
   "metadata": {},
   "outputs": [
    {
     "name": "stdout",
     "output_type": "stream",
     "text": [
      "                 precision    recall  f1-score   support\n",
      "\n",
      "heart_disease_0       0.91      0.99      0.95     55066\n",
      "heart_disease_1       0.57      0.11      0.18      5854\n",
      "\n",
      "       accuracy                           0.91     60920\n",
      "      macro avg       0.74      0.55      0.57     60920\n",
      "   weighted avg       0.88      0.91      0.88     60920\n",
      "\n"
     ]
    }
   ],
   "source": [
    "#=================================================-\n",
    "#### Slide 19: Classification report  ####\n",
    "\n",
    "# Create a list of target names to interpret class assignments.\n",
    "target_names = ['heart_disease_0', 'heart_disease_1']\n",
    "# Print an entire classification report.\n",
    "class_report = metrics.classification_report(y_test, \n",
    "                                             predicted_values_nn, \n",
    "                                             target_names = target_names)\n",
    "print(class_report)\n",
    "\n",
    "\n"
   ]
  },
  {
   "cell_type": "code",
   "execution_count": 47,
   "id": "d4e78f39",
   "metadata": {},
   "outputs": [],
   "source": [
    "#=================================================-\n",
    "#### Slide 22: Getting probabilities instead of class labels  ####\n",
    "\n",
    "# Get probabilities instead of predicted values.\n",
    "test_probabilities = fit_nn.predict_proba(X_test_scaled)\n",
    "\n",
    "# Get probabilities of test predictions only.\n",
    "test_predictions = test_probabilities[:, 1]\n",
    "\n",
    "\n"
   ]
  },
  {
   "cell_type": "code",
   "execution_count": 48,
   "id": "509cd508",
   "metadata": {},
   "outputs": [
    {
     "data": {
      "text/plain": [
       "array([[0.64002556, 0.35997444],\n",
       "       [0.99780803, 0.00219197],\n",
       "       [0.98368851, 0.01631149],\n",
       "       ...,\n",
       "       [0.99352951, 0.00647049],\n",
       "       [0.99214547, 0.00785453],\n",
       "       [0.9932352 , 0.0067648 ]])"
      ]
     },
     "execution_count": 48,
     "metadata": {},
     "output_type": "execute_result"
    }
   ],
   "source": [
    "test_probabilities"
   ]
  },
  {
   "cell_type": "code",
   "execution_count": 49,
   "id": "fe8deb7e",
   "metadata": {},
   "outputs": [
    {
     "data": {
      "text/plain": [
       "array([0.35997444, 0.00219197, 0.01631149, ..., 0.00647049, 0.00785453,\n",
       "       0.0067648 ])"
      ]
     },
     "execution_count": 49,
     "metadata": {},
     "output_type": "execute_result"
    }
   ],
   "source": [
    "test_predictions"
   ]
  },
  {
   "cell_type": "code",
   "execution_count": 50,
   "id": "1499144c",
   "metadata": {},
   "outputs": [
    {
     "name": "stdout",
     "output_type": "stream",
     "text": [
      "False positive:  [0.         0.         0.         ... 0.99992736 0.99996368 1.        ]\n",
      "True positive:  [0.00000000e+00 1.70823369e-04 3.41646737e-04 ... 1.00000000e+00\n",
      " 1.00000000e+00 1.00000000e+00]\n",
      "Threshold:  [           inf 8.91417336e-01 8.39438084e-01 ... 9.98742455e-05\n",
      " 7.98450432e-05 4.92341511e-05]\n"
     ]
    }
   ],
   "source": [
    "#=================================================-\n",
    "#### Slide 23: Computing FPR, TPR, and threshold  ####\n",
    "\n",
    "# Get FPR, TPR, and threshold values.\n",
    "fpr, tpr, threshold = metrics.roc_curve(y_test,            #<- test data labels\n",
    "                                        test_predictions)  #<- predicted probabilities\n",
    "print(\"False positive: \", fpr)\n",
    "print(\"True positive: \", tpr)\n",
    "print(\"Threshold: \", threshold)\n",
    "\n",
    "\n"
   ]
  },
  {
   "cell_type": "code",
   "execution_count": 51,
   "id": "28567169",
   "metadata": {},
   "outputs": [
    {
     "name": "stdout",
     "output_type": "stream",
     "text": [
      "Area under the ROC curve:  0.8496802423916161\n"
     ]
    }
   ],
   "source": [
    "#=================================================-\n",
    "#### Slide 24: Computing AUC  ####\n",
    "\n",
    "# Get AUC by providing the FPR and TPR.\n",
    "auc = metrics.auc(fpr, tpr)\n",
    "print(\"Area under the ROC curve: \", auc)\n",
    "\n",
    "\n"
   ]
  },
  {
   "cell_type": "code",
   "execution_count": 52,
   "id": "a026c15a",
   "metadata": {},
   "outputs": [
    {
     "data": {
      "image/png": "[encoded data removed]",
      "text/plain": [
       "<Figure size 432x288 with 1 Axes>"
      ]
     },
     "metadata": {
      "needs_background": "light"
     },
     "output_type": "display_data"
    }
   ],
   "source": [
    "#=================================================-\n",
    "#### Slide 25: Putting it all together: ROC plot  ####\n",
    "\n",
    "# Make an ROC curve plot.\n",
    "plt.title('Receiver Operator Characteristic')\n",
    "plt.plot(fpr, tpr, 'b', label = 'AUC = %0.2f' % auc)\n",
    "plt.legend(loc = 'lower right')\n",
    "plt.plot([0, 1], [0, 1],'r--')\n",
    "plt.xlabel('False Positive Rate')\n",
    "plt.ylabel('True Positive Rate')\n",
    "plt.show()\n",
    "\n",
    "\n"
   ]
  },
  {
   "cell_type": "code",
   "execution_count": 53,
   "id": "05f214ea",
   "metadata": {},
   "outputs": [
    {
     "data": {
      "image/png": "[encoded data removed]",
      "text/plain": [
       "<Figure size 432x288 with 1 Axes>"
      ]
     },
     "metadata": {
      "needs_background": "light"
     },
     "output_type": "display_data"
    }
   ],
   "source": [
    "#=================================================-\n",
    "#### Slide 26: Putting it all together: ROC plot (cont'd)  ####\n",
    "\n",
    "# Make an ROC curve plot.\n",
    "plt.title('Receiver Operator Characteristic')\n",
    "plt.plot(fpr, tpr, 'b', label = 'AUC = %0.2f' % auc)\n",
    "plt.legend(loc = 'lower right')\n",
    "plt.plot([0, 1], [0, 1],'r--')\n",
    "plt.xlabel('False Positive Rate')\n",
    "plt.ylabel('True Positive Rate')\n",
    "plt.show()\n",
    "\n",
    "\n",
    "#######################################################\n",
    "####  CONGRATULATIONS ON COMPLETING THIS MODULE!   ####\n",
    "#######################################################\n"
   ]
  },
  {
   "cell_type": "code",
   "execution_count": null,
   "id": "1145291b",
   "metadata": {},
   "outputs": [],
   "source": [
    "#######################################################\n",
    "#######################################################\n",
    "############    COPYRIGHT - DATA SOCIETY   ############\n",
    "#######################################################\n",
    "#######################################################\n",
    "\n",
    "## INTROTONEURALNETWORKS/2 BUILDINGNEURALNETWORKS/INTROTONEURALNETWORKS BUILDINGNEURALNETWORKS 3 ##\n",
    "\n",
    "## NOTE: To run individual pieces of code, select the line of code and\n",
    "##       press ctrl + enter for PCs or command + enter for Macs\n",
    "\n",
    "\n"
   ]
  },
  {
   "cell_type": "code",
   "execution_count": null,
   "id": "69a622cc",
   "metadata": {},
   "outputs": [],
   "source": [
    "3-2= 1\n",
    "1-2= -1\n",
    "\n",
    "1-1/2= 0\n",
    "\n",
    "(|1| + |-1|)/2 = 1\n",
    "\n",
    "(1^2 + -1^2)/2 = 1\n",
    "\n",
    "\n",
    "\n",
    "\n",
    "\n",
    "1\n",
    "-1"
   ]
  },
  {
   "cell_type": "code",
   "execution_count": null,
   "id": "aef7679b",
   "metadata": {},
   "outputs": [],
   "source": [
    "\n",
    "model 1:\n",
    "predict 400k, actually 410k  error 10k\n",
    "predict 400k, actually 600k  error 200k\n",
    "\n",
    "absolute error 210 k\n",
    "absolute mean error 210 k/2= 105 k\n",
    "\n",
    "10\n",
    "\n",
    "\n",
    "model 2:\n",
    "predict 300k, actually 410k  error 110k\n",
    "predict 490k, actually 600k  error 110k\n",
    "\n",
    "absolute error 220 k\n",
    "absolute mean error 220 k/2= 110 k\n",
    "\n",
    "\n",
    "\n",
    "\n",
    "\n"
   ]
  },
  {
   "cell_type": "code",
   "execution_count": null,
   "id": "23909f0c",
   "metadata": {},
   "outputs": [],
   "source": [
    "1) slides\n",
    "2) code from yesterday\n",
    "3) diagram perspective\n",
    "4) no review"
   ]
  },
  {
   "cell_type": "code",
   "execution_count": 60,
   "id": "43dd0a61",
   "metadata": {},
   "outputs": [
    {
     "data": {
      "text/plain": [
       "20050000000.0"
      ]
     },
     "execution_count": 60,
     "metadata": {},
     "output_type": "execute_result"
    }
   ],
   "source": [
    "(10000**2 + 200000**2)/2"
   ]
  },
  {
   "cell_type": "code",
   "execution_count": 61,
   "id": "bfaa0926",
   "metadata": {},
   "outputs": [
    {
     "data": {
      "text/plain": [
       "12100000000.0"
      ]
     },
     "execution_count": 61,
     "metadata": {},
     "output_type": "execute_result"
    }
   ],
   "source": [
    "(110000**2 + 110000**2)/2"
   ]
  },
  {
   "cell_type": "code",
   "execution_count": 63,
   "id": "1790528f",
   "metadata": {},
   "outputs": [
    {
     "data": {
      "text/plain": [
       "True"
      ]
     },
     "execution_count": 63,
     "metadata": {},
     "output_type": "execute_result"
    }
   ],
   "source": [
    "20,050,000,000.0 > 12,100,000,000.0\n"
   ]
  },
  {
   "cell_type": "code",
   "execution_count": 64,
   "id": "e3b0229d",
   "metadata": {},
   "outputs": [
    {
     "data": {
      "text/plain": [
       "34057     0\n",
       "38232     0\n",
       "43326     0\n",
       "62703     0\n",
       "104659    0\n",
       "         ..\n",
       "73349     0\n",
       "109259    0\n",
       "50057     0\n",
       "5192      0\n",
       "128037    0\n",
       "Name: HeartDiseaseorAttack, Length: 142145, dtype: int64"
      ]
     },
     "execution_count": 64,
     "metadata": {},
     "output_type": "execute_result"
    }
   ],
   "source": [
    "y_train"
   ]
  },
  {
   "cell_type": "code",
   "execution_count": 65,
   "id": "c1fad991",
   "metadata": {},
   "outputs": [
    {
     "data": {
      "text/plain": [
       "array([0, 1])"
      ]
     },
     "execution_count": 65,
     "metadata": {},
     "output_type": "execute_result"
    }
   ],
   "source": [
    "np.unique(y_train)"
   ]
  },
  {
   "cell_type": "code",
   "execution_count": 66,
   "id": "61844206",
   "metadata": {},
   "outputs": [],
   "source": [
    "#=================================================-\n",
    "#### Slide 12: Fitting & visualizing training history: accuracy   ####\n",
    "\n",
    "N_EPOCHS = 25                     #<- number of epochs\n",
    "N_CLASSES = np.unique(y_train)    #<- number of classes in the target variable \n",
    "\n",
    "# Build neural network model by creating a classifier:\n",
    "# add the number of hidden neurons in the 1st hidden layer and set random state.\n",
    "mlp = MLPClassifier(hidden_layer_sizes = (64), random_state = 1)          \n",
    "\n",
    "scores_train = [] #<- store scores for training history here\n",
    "scores_test = []  #<- store scores for testing history here\n",
    "\n",
    "epoch = 0 #<- set epoch count\n",
    "while epoch < N_EPOCHS:\n",
    "    mlp_fit = mlp.partial_fit(X_train_scaled, y_train, classes=N_CLASSES)\n",
    "    \n",
    "    # Compute score for train data.\n",
    "    scores_train.append(mlp.score(X_train_scaled, y_train))\n",
    "    \n",
    "    # Compute score for test data.\n",
    "    scores_test.append(mlp.score(X_test_scaled, y_test))\n",
    "    epoch += 1 #<- increment the epoch\n",
    "\n",
    "\n",
    "\n"
   ]
  },
  {
   "cell_type": "code",
   "execution_count": 67,
   "id": "00e69a4b",
   "metadata": {},
   "outputs": [
    {
     "data": {
      "image/png": "[encoded data removed]",
      "text/plain": [
       "<Figure size 432x288 with 1 Axes>"
      ]
     },
     "metadata": {
      "needs_background": "light"
     },
     "output_type": "display_data"
    },
    {
     "data": {
      "image/png": "[encoded data removed]",
      "text/plain": [
       "<Figure size 432x288 with 1 Axes>"
      ]
     },
     "metadata": {
      "needs_background": "light"
     },
     "output_type": "display_data"
    }
   ],
   "source": [
    "#=================================================-\n",
    "#### Slide 13: Inspect model accuracy and loss  ####\n",
    "\n",
    "plt.plot(scores_train, color='green', alpha=0.8, label='Train')\n",
    "plt.plot(scores_test, color='magenta', alpha=0.8, label='Test')\n",
    "plt.title(\"Accuracy over epochs\", fontsize=14)\n",
    "plt.xlabel('Epochs')\n",
    "plt.legend(loc='upper left')\n",
    "plt.show()\n",
    "plt.plot(mlp.loss_curve_)\n",
    "plt.title(\"Loss over epochs\", fontsize=14)\n",
    "plt.ylabel('Loss')\n",
    "plt.xlabel('Epochs')\n",
    "plt.show()                      \n",
    "\n",
    "\n"
   ]
  },
  {
   "cell_type": "code",
   "execution_count": 68,
   "id": "d7a839ca",
   "metadata": {},
   "outputs": [
    {
     "data": {
      "image/png": "[encoded data removed]",
      "text/plain": [
       "<Figure size 432x288 with 1 Axes>"
      ]
     },
     "metadata": {
      "needs_background": "light"
     },
     "output_type": "display_data"
    }
   ],
   "source": [
    "#=================================================-\n",
    "#### Slide 14: Inspect model accuracy and loss (cont'd)  ####\n",
    "\n",
    "plt.plot(scores_train, color='green', alpha=0.8, label='Train')\n",
    "plt.plot(scores_test, color='magenta', alpha=0.8, label='Test')\n",
    "plt.title(\"Accuracy over epochs\", fontsize=14)\n",
    "plt.xlabel('Epochs')\n",
    "plt.legend(loc='upper left')\n",
    "plt.show()\n",
    "\n",
    "\n"
   ]
  },
  {
   "cell_type": "code",
   "execution_count": 69,
   "id": "4da06538",
   "metadata": {},
   "outputs": [
    {
     "name": "stdout",
     "output_type": "stream",
     "text": [
      "HeartDiseaseorAttack\n",
      "0    183853\n",
      "1     19212\n",
      "Name: count, dtype: int64\n"
     ]
    }
   ],
   "source": [
    "#=====================================================================-\n",
    "#### Slide 17: Class imbalanced dataset challenges  ####\n",
    "\n",
    "print(heart_disease['HeartDiseaseorAttack'].value_counts())\n",
    "\n",
    "\n"
   ]
  },
  {
   "cell_type": "code",
   "execution_count": 70,
   "id": "f44343a7",
   "metadata": {},
   "outputs": [
    {
     "name": "stdout",
     "output_type": "stream",
     "text": [
      "HeartDiseaseorAttack\n",
      "0    128787\n",
      "1    128787\n",
      "Name: count, dtype: int64\n"
     ]
    }
   ],
   "source": [
    "#=================================================-\n",
    "#### Slide 20: Balancing target with SMOTE (cont'd)  ####\n",
    "\n",
    "from imblearn.over_sampling import SMOTE\n",
    "\n",
    "# Initialize SMOTE object.\n",
    "smote = SMOTE()\n",
    "\n",
    "# Now, fit the sampling method to the train data and labels.\n",
    "X_train_sm, y_train_sm = smote.fit_resample(X_train_scaled, y_train)\n",
    "print(y_train_sm.value_counts())\n",
    "\n",
    "\n"
   ]
  },
  {
   "cell_type": "code",
   "execution_count": null,
   "id": "6b5d4f8b",
   "metadata": {},
   "outputs": [],
   "source": [
    "#=================================================-\n",
    "#### Slide 23: Exercise  ####\n",
    "\n",
    "\n",
    "\n",
    "\n",
    "#######################################################\n",
    "####  CONGRATULATIONS ON COMPLETING THIS MODULE!   ####\n",
    "#######################################################\n"
   ]
  }
 ],
 "metadata": {
  "kernelspec": {
   "display_name": "Python 3 (ipykernel)",
   "language": "python",
   "name": "python3"
  },
  "language_info": {
   "codemirror_mode": {
    "name": "ipython",
    "version": 3
   },
   "file_extension": ".py",
   "mimetype": "text/x-python",
   "name": "python",
   "nbconvert_exporter": "python",
   "pygments_lexer": "ipython3",
   "version": "3.9.19"
  }
 },
 "nbformat": 4,
 "nbformat_minor": 5
}
